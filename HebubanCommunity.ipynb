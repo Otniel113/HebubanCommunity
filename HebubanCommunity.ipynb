{
  "nbformat": 4,
  "nbformat_minor": 0,
  "metadata": {
    "colab": {
      "name": "HebubanCommunity.ipynb",
      "provenance": [],
      "collapsed_sections": []
    },
    "kernelspec": {
      "name": "python3",
      "display_name": "Python 3"
    },
    "language_info": {
      "name": "python"
    }
  },
  "cells": [
    {
      "cell_type": "markdown",
      "source": [
        "# Run All"
      ],
      "metadata": {
        "id": "dqPTJfieVGuv"
      }
    },
    {
      "cell_type": "markdown",
      "source": [
        "## Import and Load"
      ],
      "metadata": {
        "id": "tYE7az_TVI_a"
      }
    },
    {
      "cell_type": "markdown",
      "source": [
        "Import library yang dibutuhkan"
      ],
      "metadata": {
        "id": "4enSTSAyubGk"
      }
    },
    {
      "cell_type": "code",
      "execution_count": null,
      "metadata": {
        "id": "HfarWBYwUH4j"
      },
      "outputs": [],
      "source": [
        "import pandas as pd\n",
        "import networkx as nx\n",
        "import matplotlib as mpl\n",
        "import matplotlib.pyplot as plt\n",
        "from matplotlib import rcParams\n",
        "import matplotlib.cm as cm\n",
        "import community.community_louvain as community_louvain\n",
        "%matplotlib inline"
      ]
    },
    {
      "cell_type": "markdown",
      "source": [
        "Mengubah Style"
      ],
      "metadata": {
        "id": "Tlke4cg-udxv"
      }
    },
    {
      "cell_type": "code",
      "source": [
        "rcParams['figure.figsize'] = 15, 8\n",
        "mpl.style.use(['ggplot'])"
      ],
      "metadata": {
        "id": "QTBl5kAJjn9c"
      },
      "execution_count": null,
      "outputs": []
    },
    {
      "cell_type": "markdown",
      "source": [
        "Load Dataset"
      ],
      "metadata": {
        "id": "DsO6hkpxufpk"
      }
    },
    {
      "cell_type": "code",
      "source": [
        "df_hebuban = pd.read_excel('https://drive.google.com/uc?id=1l3tRHD0umuyyHLJxMBVZY_szLNRKgAa1')"
      ],
      "metadata": {
        "id": "aLRoXtPiUwrc"
      },
      "execution_count": null,
      "outputs": []
    },
    {
      "cell_type": "markdown",
      "source": [
        "Lihat Dataset"
      ],
      "metadata": {
        "id": "1G53BXPeujBB"
      }
    },
    {
      "cell_type": "code",
      "source": [
        "df_hebuban.head()"
      ],
      "metadata": {
        "colab": {
          "base_uri": "https://localhost:8080/",
          "height": 548
        },
        "id": "KTsL462HVA1S",
        "outputId": "decf51ee-49b0-475d-ae5d-44d0ad37749f"
      },
      "execution_count": null,
      "outputs": [
        {
          "output_type": "execute_result",
          "data": {
            "text/plain": [
              "  author_username  referenced_author_username            author_id  \\\n",
              "0       yasuthi13  Tidak ada referenced tweet   716452119931330560   \n",
              "1    KOKUHAKU_210             sHjSu1LfvuPseH0  1476093504011276289   \n",
              "2        hakuoden  Tidak ada referenced tweet  1089445166128062464   \n",
              "3    West99974912                     824_aoi  1342479462776983552   \n",
              "4    West99974912              yumekibogakuen  1342479462776983552   \n",
              "\n",
              "         referenced_author_id             tweet_id  \\\n",
              "0  Tidak ada referenced tweet  1511905311535247361   \n",
              "1         1503233976655237121  1511905300995264517   \n",
              "2  Tidak ada referenced tweet  1511905296406704131   \n",
              "3                  3111958734  1511905133478572037   \n",
              "4         1255058861112692736  1511905123781382145   \n",
              "\n",
              "          referenced_tweet_id  \\\n",
              "0  Tidak ada referenced tweet   \n",
              "1         1511886232745558018   \n",
              "2  Tidak ada referenced tweet   \n",
              "3         1511696175866707972   \n",
              "4         1511636485249765387   \n",
              "\n",
              "                                                text  \\\n",
              "0                           ヘブバンの2章普通に泣けるんだが…\\n#ヘブバン   \n",
              "1  RT @sHjSu1LfvuPseH0: #hvbnFA\\n#ヘブバン\\n#大島四ツ葉\\n\\...   \n",
              "2  ( ⌒ ͜ ⌒ )＜おでん今日の #ヘブバン\\n\\n緊急参戦！\\nLDブログのゲームNO.1...   \n",
              "3  RT @824_aoi: 次回の #ゆめきぼ 学園は…！🕊\\n\\n🏫4月13日21:00〜🏫...   \n",
              "4  RT @yumekibogakuen: #古賀葵 の羽ばたけ！！ #ゆめきぼ 学園\\nお友達...   \n",
              "\n",
              "                  created_at          relation lang               source  \n",
              "0  2022-04-07 03:14:50+00:00  Tidak ada relasi   ja   Twitter for iPhone  \n",
              "1  2022-04-07 03:14:48+00:00         retweeted   ja   Twitter for iPhone  \n",
              "2  2022-04-07 03:14:47+00:00  Tidak ada relasi   ja  Twitter for Android  \n",
              "3  2022-04-07 03:14:08+00:00         retweeted   ja   Twitter for iPhone  \n",
              "4  2022-04-07 03:14:06+00:00         retweeted   ja   Twitter for iPhone  "
            ],
            "text/html": [
              "\n",
              "  <div id=\"df-08e37960-ad84-4bdf-85bc-efae4ba8bedc\">\n",
              "    <div class=\"colab-df-container\">\n",
              "      <div>\n",
              "<style scoped>\n",
              "    .dataframe tbody tr th:only-of-type {\n",
              "        vertical-align: middle;\n",
              "    }\n",
              "\n",
              "    .dataframe tbody tr th {\n",
              "        vertical-align: top;\n",
              "    }\n",
              "\n",
              "    .dataframe thead th {\n",
              "        text-align: right;\n",
              "    }\n",
              "</style>\n",
              "<table border=\"1\" class=\"dataframe\">\n",
              "  <thead>\n",
              "    <tr style=\"text-align: right;\">\n",
              "      <th></th>\n",
              "      <th>author_username</th>\n",
              "      <th>referenced_author_username</th>\n",
              "      <th>author_id</th>\n",
              "      <th>referenced_author_id</th>\n",
              "      <th>tweet_id</th>\n",
              "      <th>referenced_tweet_id</th>\n",
              "      <th>text</th>\n",
              "      <th>created_at</th>\n",
              "      <th>relation</th>\n",
              "      <th>lang</th>\n",
              "      <th>source</th>\n",
              "    </tr>\n",
              "  </thead>\n",
              "  <tbody>\n",
              "    <tr>\n",
              "      <th>0</th>\n",
              "      <td>yasuthi13</td>\n",
              "      <td>Tidak ada referenced tweet</td>\n",
              "      <td>716452119931330560</td>\n",
              "      <td>Tidak ada referenced tweet</td>\n",
              "      <td>1511905311535247361</td>\n",
              "      <td>Tidak ada referenced tweet</td>\n",
              "      <td>ヘブバンの2章普通に泣けるんだが…\\n#ヘブバン</td>\n",
              "      <td>2022-04-07 03:14:50+00:00</td>\n",
              "      <td>Tidak ada relasi</td>\n",
              "      <td>ja</td>\n",
              "      <td>Twitter for iPhone</td>\n",
              "    </tr>\n",
              "    <tr>\n",
              "      <th>1</th>\n",
              "      <td>KOKUHAKU_210</td>\n",
              "      <td>sHjSu1LfvuPseH0</td>\n",
              "      <td>1476093504011276289</td>\n",
              "      <td>1503233976655237121</td>\n",
              "      <td>1511905300995264517</td>\n",
              "      <td>1511886232745558018</td>\n",
              "      <td>RT @sHjSu1LfvuPseH0: #hvbnFA\\n#ヘブバン\\n#大島四ツ葉\\n\\...</td>\n",
              "      <td>2022-04-07 03:14:48+00:00</td>\n",
              "      <td>retweeted</td>\n",
              "      <td>ja</td>\n",
              "      <td>Twitter for iPhone</td>\n",
              "    </tr>\n",
              "    <tr>\n",
              "      <th>2</th>\n",
              "      <td>hakuoden</td>\n",
              "      <td>Tidak ada referenced tweet</td>\n",
              "      <td>1089445166128062464</td>\n",
              "      <td>Tidak ada referenced tweet</td>\n",
              "      <td>1511905296406704131</td>\n",
              "      <td>Tidak ada referenced tweet</td>\n",
              "      <td>( ⌒ ͜ ⌒ )＜おでん今日の #ヘブバン\\n\\n緊急参戦！\\nLDブログのゲームNO.1...</td>\n",
              "      <td>2022-04-07 03:14:47+00:00</td>\n",
              "      <td>Tidak ada relasi</td>\n",
              "      <td>ja</td>\n",
              "      <td>Twitter for Android</td>\n",
              "    </tr>\n",
              "    <tr>\n",
              "      <th>3</th>\n",
              "      <td>West99974912</td>\n",
              "      <td>824_aoi</td>\n",
              "      <td>1342479462776983552</td>\n",
              "      <td>3111958734</td>\n",
              "      <td>1511905133478572037</td>\n",
              "      <td>1511696175866707972</td>\n",
              "      <td>RT @824_aoi: 次回の #ゆめきぼ 学園は…！🕊\\n\\n🏫4月13日21:00〜🏫...</td>\n",
              "      <td>2022-04-07 03:14:08+00:00</td>\n",
              "      <td>retweeted</td>\n",
              "      <td>ja</td>\n",
              "      <td>Twitter for iPhone</td>\n",
              "    </tr>\n",
              "    <tr>\n",
              "      <th>4</th>\n",
              "      <td>West99974912</td>\n",
              "      <td>yumekibogakuen</td>\n",
              "      <td>1342479462776983552</td>\n",
              "      <td>1255058861112692736</td>\n",
              "      <td>1511905123781382145</td>\n",
              "      <td>1511636485249765387</td>\n",
              "      <td>RT @yumekibogakuen: #古賀葵 の羽ばたけ！！ #ゆめきぼ 学園\\nお友達...</td>\n",
              "      <td>2022-04-07 03:14:06+00:00</td>\n",
              "      <td>retweeted</td>\n",
              "      <td>ja</td>\n",
              "      <td>Twitter for iPhone</td>\n",
              "    </tr>\n",
              "  </tbody>\n",
              "</table>\n",
              "</div>\n",
              "      <button class=\"colab-df-convert\" onclick=\"convertToInteractive('df-08e37960-ad84-4bdf-85bc-efae4ba8bedc')\"\n",
              "              title=\"Convert this dataframe to an interactive table.\"\n",
              "              style=\"display:none;\">\n",
              "        \n",
              "  <svg xmlns=\"http://www.w3.org/2000/svg\" height=\"24px\"viewBox=\"0 0 24 24\"\n",
              "       width=\"24px\">\n",
              "    <path d=\"M0 0h24v24H0V0z\" fill=\"none\"/>\n",
              "    <path d=\"M18.56 5.44l.94 2.06.94-2.06 2.06-.94-2.06-.94-.94-2.06-.94 2.06-2.06.94zm-11 1L8.5 8.5l.94-2.06 2.06-.94-2.06-.94L8.5 2.5l-.94 2.06-2.06.94zm10 10l.94 2.06.94-2.06 2.06-.94-2.06-.94-.94-2.06-.94 2.06-2.06.94z\"/><path d=\"M17.41 7.96l-1.37-1.37c-.4-.4-.92-.59-1.43-.59-.52 0-1.04.2-1.43.59L10.3 9.45l-7.72 7.72c-.78.78-.78 2.05 0 2.83L4 21.41c.39.39.9.59 1.41.59.51 0 1.02-.2 1.41-.59l7.78-7.78 2.81-2.81c.8-.78.8-2.07 0-2.86zM5.41 20L4 18.59l7.72-7.72 1.47 1.35L5.41 20z\"/>\n",
              "  </svg>\n",
              "      </button>\n",
              "      \n",
              "  <style>\n",
              "    .colab-df-container {\n",
              "      display:flex;\n",
              "      flex-wrap:wrap;\n",
              "      gap: 12px;\n",
              "    }\n",
              "\n",
              "    .colab-df-convert {\n",
              "      background-color: #E8F0FE;\n",
              "      border: none;\n",
              "      border-radius: 50%;\n",
              "      cursor: pointer;\n",
              "      display: none;\n",
              "      fill: #1967D2;\n",
              "      height: 32px;\n",
              "      padding: 0 0 0 0;\n",
              "      width: 32px;\n",
              "    }\n",
              "\n",
              "    .colab-df-convert:hover {\n",
              "      background-color: #E2EBFA;\n",
              "      box-shadow: 0px 1px 2px rgba(60, 64, 67, 0.3), 0px 1px 3px 1px rgba(60, 64, 67, 0.15);\n",
              "      fill: #174EA6;\n",
              "    }\n",
              "\n",
              "    [theme=dark] .colab-df-convert {\n",
              "      background-color: #3B4455;\n",
              "      fill: #D2E3FC;\n",
              "    }\n",
              "\n",
              "    [theme=dark] .colab-df-convert:hover {\n",
              "      background-color: #434B5C;\n",
              "      box-shadow: 0px 1px 3px 1px rgba(0, 0, 0, 0.15);\n",
              "      filter: drop-shadow(0px 1px 2px rgba(0, 0, 0, 0.3));\n",
              "      fill: #FFFFFF;\n",
              "    }\n",
              "  </style>\n",
              "\n",
              "      <script>\n",
              "        const buttonEl =\n",
              "          document.querySelector('#df-08e37960-ad84-4bdf-85bc-efae4ba8bedc button.colab-df-convert');\n",
              "        buttonEl.style.display =\n",
              "          google.colab.kernel.accessAllowed ? 'block' : 'none';\n",
              "\n",
              "        async function convertToInteractive(key) {\n",
              "          const element = document.querySelector('#df-08e37960-ad84-4bdf-85bc-efae4ba8bedc');\n",
              "          const dataTable =\n",
              "            await google.colab.kernel.invokeFunction('convertToInteractive',\n",
              "                                                     [key], {});\n",
              "          if (!dataTable) return;\n",
              "\n",
              "          const docLinkHtml = 'Like what you see? Visit the ' +\n",
              "            '<a target=\"_blank\" href=https://colab.research.google.com/notebooks/data_table.ipynb>data table notebook</a>'\n",
              "            + ' to learn more about interactive tables.';\n",
              "          element.innerHTML = '';\n",
              "          dataTable['output_type'] = 'display_data';\n",
              "          await google.colab.output.renderOutput(dataTable, element);\n",
              "          const docLink = document.createElement('div');\n",
              "          docLink.innerHTML = docLinkHtml;\n",
              "          element.appendChild(docLink);\n",
              "        }\n",
              "      </script>\n",
              "    </div>\n",
              "  </div>\n",
              "  "
            ]
          },
          "metadata": {},
          "execution_count": 21
        }
      ]
    },
    {
      "cell_type": "markdown",
      "source": [
        "Ukuran Dataset"
      ],
      "metadata": {
        "id": "KtBoY76SumUE"
      }
    },
    {
      "cell_type": "code",
      "source": [
        "df_hebuban.shape"
      ],
      "metadata": {
        "colab": {
          "base_uri": "https://localhost:8080/"
        },
        "id": "JDAkdxVsVMN0",
        "outputId": "f073ce3f-e516-413d-ab7c-ee44dfcb5bfb"
      },
      "execution_count": null,
      "outputs": [
        {
          "output_type": "execute_result",
          "data": {
            "text/plain": [
              "(14852, 11)"
            ]
          },
          "metadata": {},
          "execution_count": 22
        }
      ]
    },
    {
      "cell_type": "markdown",
      "source": [
        "Info Dataset"
      ],
      "metadata": {
        "id": "nryWLg6buoXl"
      }
    },
    {
      "cell_type": "code",
      "source": [
        "df_hebuban.info()"
      ],
      "metadata": {
        "colab": {
          "base_uri": "https://localhost:8080/"
        },
        "id": "Fh7ESFF2VPEq",
        "outputId": "b97f6689-2257-4516-b881-e1f481dd3331"
      },
      "execution_count": null,
      "outputs": [
        {
          "output_type": "stream",
          "name": "stdout",
          "text": [
            "<class 'pandas.core.frame.DataFrame'>\n",
            "RangeIndex: 14852 entries, 0 to 14851\n",
            "Data columns (total 11 columns):\n",
            " #   Column                      Non-Null Count  Dtype \n",
            "---  ------                      --------------  ----- \n",
            " 0   author_username             14852 non-null  object\n",
            " 1   referenced_author_username  14852 non-null  object\n",
            " 2   author_id                   14852 non-null  int64 \n",
            " 3   referenced_author_id        14852 non-null  object\n",
            " 4   tweet_id                    14852 non-null  int64 \n",
            " 5   referenced_tweet_id         14852 non-null  object\n",
            " 6   text                        14852 non-null  object\n",
            " 7   created_at                  14852 non-null  object\n",
            " 8   relation                    14852 non-null  object\n",
            " 9   lang                        14852 non-null  object\n",
            " 10  source                      14852 non-null  object\n",
            "dtypes: int64(2), object(9)\n",
            "memory usage: 1.2+ MB\n"
          ]
        }
      ]
    },
    {
      "cell_type": "markdown",
      "source": [
        "## Praproses"
      ],
      "metadata": {
        "id": "gabbsG8wVaPC"
      }
    },
    {
      "cell_type": "markdown",
      "source": [
        "### Melakukan Drop pada Tweet yang tidak berelasi"
      ],
      "metadata": {
        "id": "A4Hq-WpOZLof"
      }
    },
    {
      "cell_type": "markdown",
      "source": [
        "Mencari yang tidak memiliki relasi"
      ],
      "metadata": {
        "id": "rokz8r9CZSfZ"
      }
    },
    {
      "cell_type": "code",
      "source": [
        "df_hebuban['author_username'][df_hebuban[\"referenced_author_username\"] == \"Tidak ada referenced tweet\"].count()"
      ],
      "metadata": {
        "colab": {
          "base_uri": "https://localhost:8080/"
        },
        "id": "qbtbWH7eWO1G",
        "outputId": "aedb618b-9f6b-41fa-e2ae-18818e10cf42"
      },
      "execution_count": null,
      "outputs": [
        {
          "output_type": "execute_result",
          "data": {
            "text/plain": [
              "6513"
            ]
          },
          "metadata": {},
          "execution_count": 24
        }
      ]
    },
    {
      "cell_type": "markdown",
      "source": [
        "Ditampung ke index_drop"
      ],
      "metadata": {
        "id": "RS7pdnBnZWtL"
      }
    },
    {
      "cell_type": "code",
      "source": [
        "index_drop = df_hebuban[df_hebuban[\"referenced_author_username\"] == \"Tidak ada referenced tweet\"].index\n",
        "len(index_drop)"
      ],
      "metadata": {
        "colab": {
          "base_uri": "https://localhost:8080/"
        },
        "id": "X6ZyvlycX1h3",
        "outputId": "5b9abdba-62d2-49e1-f2a9-31b7dc6576f5"
      },
      "execution_count": null,
      "outputs": [
        {
          "output_type": "execute_result",
          "data": {
            "text/plain": [
              "6513"
            ]
          },
          "metadata": {},
          "execution_count": 25
        }
      ]
    },
    {
      "cell_type": "markdown",
      "source": [
        "Melakukan drop dan melihat sisa data"
      ],
      "metadata": {
        "id": "Mw65aRPnZZ6Q"
      }
    },
    {
      "cell_type": "code",
      "source": [
        "df_hebuban = df_hebuban.drop(index_drop)\n",
        "df_hebuban.shape"
      ],
      "metadata": {
        "colab": {
          "base_uri": "https://localhost:8080/"
        },
        "id": "5cdkwgd1Y8RN",
        "outputId": "7d61da4c-e7b7-49fc-c86b-3e6f86feb7ae"
      },
      "execution_count": null,
      "outputs": [
        {
          "output_type": "execute_result",
          "data": {
            "text/plain": [
              "(8339, 11)"
            ]
          },
          "metadata": {},
          "execution_count": 26
        }
      ]
    },
    {
      "cell_type": "markdown",
      "source": [
        "### Cek Relasi ke Diri Sendiri"
      ],
      "metadata": {
        "id": "J1QKXO-uZmBM"
      }
    },
    {
      "cell_type": "markdown",
      "source": [
        "Mencari yang berelasi ke diri sendiri"
      ],
      "metadata": {
        "id": "PrDIOZ3GuubK"
      }
    },
    {
      "cell_type": "code",
      "source": [
        "df_hebuban['author_username'][df_hebuban[\"referenced_author_username\"] == df_hebuban[\"author_username\"]].count()"
      ],
      "metadata": {
        "colab": {
          "base_uri": "https://localhost:8080/"
        },
        "id": "HPzkaL0nZora",
        "outputId": "82f308c3-f32c-40e9-fe5a-e0b71238783b"
      },
      "execution_count": null,
      "outputs": [
        {
          "output_type": "execute_result",
          "data": {
            "text/plain": [
              "299"
            ]
          },
          "metadata": {},
          "execution_count": 27
        }
      ]
    },
    {
      "cell_type": "markdown",
      "source": [
        "Menampung index yang akan didrop"
      ],
      "metadata": {
        "id": "SiGgmrkguxtv"
      }
    },
    {
      "cell_type": "code",
      "source": [
        "index_drop = df_hebuban['author_username'][df_hebuban[\"referenced_author_username\"] == df_hebuban[\"author_username\"]].index\n",
        "len(index_drop)"
      ],
      "metadata": {
        "colab": {
          "base_uri": "https://localhost:8080/"
        },
        "id": "Gl9J1zL3Z5Ij",
        "outputId": "d6e3b489-8bb4-422a-9cd5-7ab990943144"
      },
      "execution_count": null,
      "outputs": [
        {
          "output_type": "execute_result",
          "data": {
            "text/plain": [
              "299"
            ]
          },
          "metadata": {},
          "execution_count": 28
        }
      ]
    },
    {
      "cell_type": "markdown",
      "source": [
        "Hasil akhir setelah drop"
      ],
      "metadata": {
        "id": "SWUeN-Jcu1IU"
      }
    },
    {
      "cell_type": "code",
      "source": [
        "df_hebuban = df_hebuban.drop(index_drop)\n",
        "df_hebuban.shape"
      ],
      "metadata": {
        "colab": {
          "base_uri": "https://localhost:8080/"
        },
        "id": "w7QhqgxSaC5F",
        "outputId": "c16430ef-a61e-4be1-edbf-0dd268920bbb"
      },
      "execution_count": null,
      "outputs": [
        {
          "output_type": "execute_result",
          "data": {
            "text/plain": [
              "(8040, 11)"
            ]
          },
          "metadata": {},
          "execution_count": 29
        }
      ]
    },
    {
      "cell_type": "markdown",
      "source": [
        "### Reset Index"
      ],
      "metadata": {
        "id": "v8cA7vljg-iM"
      }
    },
    {
      "cell_type": "markdown",
      "source": [
        "Melakukan reset index karena sebelumnya ada index yang didrop"
      ],
      "metadata": {
        "id": "_crikfH1u53z"
      }
    },
    {
      "cell_type": "code",
      "source": [
        "df_hebuban = df_hebuban.reset_index(drop=True)\n",
        "df_hebuban.head()"
      ],
      "metadata": {
        "colab": {
          "base_uri": "https://localhost:8080/",
          "height": 582
        },
        "id": "xOl86eYag7ji",
        "outputId": "84b32b1f-5ca6-4e40-9b73-277389e65c6c"
      },
      "execution_count": null,
      "outputs": [
        {
          "output_type": "execute_result",
          "data": {
            "text/plain": [
              "  author_username referenced_author_username            author_id  \\\n",
              "0    KOKUHAKU_210            sHjSu1LfvuPseH0  1476093504011276289   \n",
              "1    West99974912                    824_aoi  1342479462776983552   \n",
              "2    West99974912             yumekibogakuen  1342479462776983552   \n",
              "3     sanagi_hvbn            sHjSu1LfvuPseH0  1497853701717135361   \n",
              "4    isshi_nekoha                   092596Tk  1465274875841769475   \n",
              "\n",
              "  referenced_author_id             tweet_id  referenced_tweet_id  \\\n",
              "0  1503233976655237121  1511905300995264517  1511886232745558018   \n",
              "1           3111958734  1511905133478572037  1511696175866707972   \n",
              "2  1255058861112692736  1511905123781382145  1511636485249765387   \n",
              "3  1503233976655237121  1511904694456963073  1511886232745558018   \n",
              "4           2373534090  1511904344882352138  1510215147054280705   \n",
              "\n",
              "                                                text  \\\n",
              "0  RT @sHjSu1LfvuPseH0: #hvbnFA\\n#ヘブバン\\n#大島四ツ葉\\n\\...   \n",
              "1  RT @824_aoi: 次回の #ゆめきぼ 学園は…！🕊\\n\\n🏫4月13日21:00〜🏫...   \n",
              "2  RT @yumekibogakuen: #古賀葵 の羽ばたけ！！ #ゆめきぼ 学園\\nお友達...   \n",
              "3  RT @sHjSu1LfvuPseH0: #hvbnFA\\n#ヘブバン\\n#大島四ツ葉\\n\\...   \n",
              "4  RT @092596Tk: くるくるパーカー(  ˘ω˘ )\\n#ヘブバン\\n#hvbnFA...   \n",
              "\n",
              "                  created_at   relation lang               source  \n",
              "0  2022-04-07 03:14:48+00:00  retweeted   ja   Twitter for iPhone  \n",
              "1  2022-04-07 03:14:08+00:00  retweeted   ja   Twitter for iPhone  \n",
              "2  2022-04-07 03:14:06+00:00  retweeted   ja   Twitter for iPhone  \n",
              "3  2022-04-07 03:12:23+00:00  retweeted   ja   Twitter for iPhone  \n",
              "4  2022-04-07 03:11:00+00:00  retweeted   ja  Twitter for Android  "
            ],
            "text/html": [
              "\n",
              "  <div id=\"df-6504933e-ab90-41b0-b36f-a02130972ae8\">\n",
              "    <div class=\"colab-df-container\">\n",
              "      <div>\n",
              "<style scoped>\n",
              "    .dataframe tbody tr th:only-of-type {\n",
              "        vertical-align: middle;\n",
              "    }\n",
              "\n",
              "    .dataframe tbody tr th {\n",
              "        vertical-align: top;\n",
              "    }\n",
              "\n",
              "    .dataframe thead th {\n",
              "        text-align: right;\n",
              "    }\n",
              "</style>\n",
              "<table border=\"1\" class=\"dataframe\">\n",
              "  <thead>\n",
              "    <tr style=\"text-align: right;\">\n",
              "      <th></th>\n",
              "      <th>author_username</th>\n",
              "      <th>referenced_author_username</th>\n",
              "      <th>author_id</th>\n",
              "      <th>referenced_author_id</th>\n",
              "      <th>tweet_id</th>\n",
              "      <th>referenced_tweet_id</th>\n",
              "      <th>text</th>\n",
              "      <th>created_at</th>\n",
              "      <th>relation</th>\n",
              "      <th>lang</th>\n",
              "      <th>source</th>\n",
              "    </tr>\n",
              "  </thead>\n",
              "  <tbody>\n",
              "    <tr>\n",
              "      <th>0</th>\n",
              "      <td>KOKUHAKU_210</td>\n",
              "      <td>sHjSu1LfvuPseH0</td>\n",
              "      <td>1476093504011276289</td>\n",
              "      <td>1503233976655237121</td>\n",
              "      <td>1511905300995264517</td>\n",
              "      <td>1511886232745558018</td>\n",
              "      <td>RT @sHjSu1LfvuPseH0: #hvbnFA\\n#ヘブバン\\n#大島四ツ葉\\n\\...</td>\n",
              "      <td>2022-04-07 03:14:48+00:00</td>\n",
              "      <td>retweeted</td>\n",
              "      <td>ja</td>\n",
              "      <td>Twitter for iPhone</td>\n",
              "    </tr>\n",
              "    <tr>\n",
              "      <th>1</th>\n",
              "      <td>West99974912</td>\n",
              "      <td>824_aoi</td>\n",
              "      <td>1342479462776983552</td>\n",
              "      <td>3111958734</td>\n",
              "      <td>1511905133478572037</td>\n",
              "      <td>1511696175866707972</td>\n",
              "      <td>RT @824_aoi: 次回の #ゆめきぼ 学園は…！🕊\\n\\n🏫4月13日21:00〜🏫...</td>\n",
              "      <td>2022-04-07 03:14:08+00:00</td>\n",
              "      <td>retweeted</td>\n",
              "      <td>ja</td>\n",
              "      <td>Twitter for iPhone</td>\n",
              "    </tr>\n",
              "    <tr>\n",
              "      <th>2</th>\n",
              "      <td>West99974912</td>\n",
              "      <td>yumekibogakuen</td>\n",
              "      <td>1342479462776983552</td>\n",
              "      <td>1255058861112692736</td>\n",
              "      <td>1511905123781382145</td>\n",
              "      <td>1511636485249765387</td>\n",
              "      <td>RT @yumekibogakuen: #古賀葵 の羽ばたけ！！ #ゆめきぼ 学園\\nお友達...</td>\n",
              "      <td>2022-04-07 03:14:06+00:00</td>\n",
              "      <td>retweeted</td>\n",
              "      <td>ja</td>\n",
              "      <td>Twitter for iPhone</td>\n",
              "    </tr>\n",
              "    <tr>\n",
              "      <th>3</th>\n",
              "      <td>sanagi_hvbn</td>\n",
              "      <td>sHjSu1LfvuPseH0</td>\n",
              "      <td>1497853701717135361</td>\n",
              "      <td>1503233976655237121</td>\n",
              "      <td>1511904694456963073</td>\n",
              "      <td>1511886232745558018</td>\n",
              "      <td>RT @sHjSu1LfvuPseH0: #hvbnFA\\n#ヘブバン\\n#大島四ツ葉\\n\\...</td>\n",
              "      <td>2022-04-07 03:12:23+00:00</td>\n",
              "      <td>retweeted</td>\n",
              "      <td>ja</td>\n",
              "      <td>Twitter for iPhone</td>\n",
              "    </tr>\n",
              "    <tr>\n",
              "      <th>4</th>\n",
              "      <td>isshi_nekoha</td>\n",
              "      <td>092596Tk</td>\n",
              "      <td>1465274875841769475</td>\n",
              "      <td>2373534090</td>\n",
              "      <td>1511904344882352138</td>\n",
              "      <td>1510215147054280705</td>\n",
              "      <td>RT @092596Tk: くるくるパーカー(  ˘ω˘ )\\n#ヘブバン\\n#hvbnFA...</td>\n",
              "      <td>2022-04-07 03:11:00+00:00</td>\n",
              "      <td>retweeted</td>\n",
              "      <td>ja</td>\n",
              "      <td>Twitter for Android</td>\n",
              "    </tr>\n",
              "  </tbody>\n",
              "</table>\n",
              "</div>\n",
              "      <button class=\"colab-df-convert\" onclick=\"convertToInteractive('df-6504933e-ab90-41b0-b36f-a02130972ae8')\"\n",
              "              title=\"Convert this dataframe to an interactive table.\"\n",
              "              style=\"display:none;\">\n",
              "        \n",
              "  <svg xmlns=\"http://www.w3.org/2000/svg\" height=\"24px\"viewBox=\"0 0 24 24\"\n",
              "       width=\"24px\">\n",
              "    <path d=\"M0 0h24v24H0V0z\" fill=\"none\"/>\n",
              "    <path d=\"M18.56 5.44l.94 2.06.94-2.06 2.06-.94-2.06-.94-.94-2.06-.94 2.06-2.06.94zm-11 1L8.5 8.5l.94-2.06 2.06-.94-2.06-.94L8.5 2.5l-.94 2.06-2.06.94zm10 10l.94 2.06.94-2.06 2.06-.94-2.06-.94-.94-2.06-.94 2.06-2.06.94z\"/><path d=\"M17.41 7.96l-1.37-1.37c-.4-.4-.92-.59-1.43-.59-.52 0-1.04.2-1.43.59L10.3 9.45l-7.72 7.72c-.78.78-.78 2.05 0 2.83L4 21.41c.39.39.9.59 1.41.59.51 0 1.02-.2 1.41-.59l7.78-7.78 2.81-2.81c.8-.78.8-2.07 0-2.86zM5.41 20L4 18.59l7.72-7.72 1.47 1.35L5.41 20z\"/>\n",
              "  </svg>\n",
              "      </button>\n",
              "      \n",
              "  <style>\n",
              "    .colab-df-container {\n",
              "      display:flex;\n",
              "      flex-wrap:wrap;\n",
              "      gap: 12px;\n",
              "    }\n",
              "\n",
              "    .colab-df-convert {\n",
              "      background-color: #E8F0FE;\n",
              "      border: none;\n",
              "      border-radius: 50%;\n",
              "      cursor: pointer;\n",
              "      display: none;\n",
              "      fill: #1967D2;\n",
              "      height: 32px;\n",
              "      padding: 0 0 0 0;\n",
              "      width: 32px;\n",
              "    }\n",
              "\n",
              "    .colab-df-convert:hover {\n",
              "      background-color: #E2EBFA;\n",
              "      box-shadow: 0px 1px 2px rgba(60, 64, 67, 0.3), 0px 1px 3px 1px rgba(60, 64, 67, 0.15);\n",
              "      fill: #174EA6;\n",
              "    }\n",
              "\n",
              "    [theme=dark] .colab-df-convert {\n",
              "      background-color: #3B4455;\n",
              "      fill: #D2E3FC;\n",
              "    }\n",
              "\n",
              "    [theme=dark] .colab-df-convert:hover {\n",
              "      background-color: #434B5C;\n",
              "      box-shadow: 0px 1px 3px 1px rgba(0, 0, 0, 0.15);\n",
              "      filter: drop-shadow(0px 1px 2px rgba(0, 0, 0, 0.3));\n",
              "      fill: #FFFFFF;\n",
              "    }\n",
              "  </style>\n",
              "\n",
              "      <script>\n",
              "        const buttonEl =\n",
              "          document.querySelector('#df-6504933e-ab90-41b0-b36f-a02130972ae8 button.colab-df-convert');\n",
              "        buttonEl.style.display =\n",
              "          google.colab.kernel.accessAllowed ? 'block' : 'none';\n",
              "\n",
              "        async function convertToInteractive(key) {\n",
              "          const element = document.querySelector('#df-6504933e-ab90-41b0-b36f-a02130972ae8');\n",
              "          const dataTable =\n",
              "            await google.colab.kernel.invokeFunction('convertToInteractive',\n",
              "                                                     [key], {});\n",
              "          if (!dataTable) return;\n",
              "\n",
              "          const docLinkHtml = 'Like what you see? Visit the ' +\n",
              "            '<a target=\"_blank\" href=https://colab.research.google.com/notebooks/data_table.ipynb>data table notebook</a>'\n",
              "            + ' to learn more about interactive tables.';\n",
              "          element.innerHTML = '';\n",
              "          dataTable['output_type'] = 'display_data';\n",
              "          await google.colab.output.renderOutput(dataTable, element);\n",
              "          const docLink = document.createElement('div');\n",
              "          docLink.innerHTML = docLinkHtml;\n",
              "          element.appendChild(docLink);\n",
              "        }\n",
              "      </script>\n",
              "    </div>\n",
              "  </div>\n",
              "  "
            ]
          },
          "metadata": {},
          "execution_count": 30
        }
      ]
    },
    {
      "cell_type": "markdown",
      "source": [
        "## Model Graf"
      ],
      "metadata": {
        "id": "idKYLAsvaK6T"
      }
    },
    {
      "cell_type": "markdown",
      "source": [
        "Membuat Graf"
      ],
      "metadata": {
        "id": "fgnCOSzmuUgu"
      }
    },
    {
      "cell_type": "code",
      "source": [
        "h_graph = nx.Graph()\n",
        "\n",
        "for i in range(len(df_hebuban)):\n",
        "  h_graph.add_edge(df_hebuban['author_username'][i], df_hebuban['referenced_author_username'][i])"
      ],
      "metadata": {
        "id": "jICiNk3giDNp"
      },
      "execution_count": null,
      "outputs": []
    },
    {
      "cell_type": "markdown",
      "source": [
        "Visualisasi Graf. Waktu Run sekitar 1.5 menit"
      ],
      "metadata": {
        "id": "vjs8cFyRnEbk"
      }
    },
    {
      "cell_type": "code",
      "source": [
        "nx.draw_networkx(h_graph, node_size=50, width=3, with_labels=False)\n",
        "plt.show()"
      ],
      "metadata": {
        "colab": {
          "base_uri": "https://localhost:8080/",
          "height": 403
        },
        "id": "9-c4GKQNmJ-c",
        "outputId": "dcae89f7-5429-402a-e024-f2159960c460"
      },
      "execution_count": null,
      "outputs": [
        {
          "output_type": "display_data",
          "data": {
            "text/plain": [
              "<Figure size 1080x576 with 1 Axes>"
            ],
            "image/png": "[encoded data removed]"
          },
          "metadata": {}
        }
      ]
    },
    {
      "cell_type": "markdown",
      "source": [
        "## Pencarian Komunitas"
      ],
      "metadata": {
        "id": "QeY52fnUsIJW"
      }
    },
    {
      "cell_type": "markdown",
      "source": [
        "Hasil Best Partition dengan menggunakan Metode Louvain"
      ],
      "metadata": {
        "id": "avro_gOpZuBq"
      }
    },
    {
      "cell_type": "code",
      "source": [
        "partisi = community_louvain.best_partition(h_graph)\n",
        "# partisi"
      ],
      "metadata": {
        "id": "GQygxbnRONYe"
      },
      "execution_count": null,
      "outputs": []
    },
    {
      "cell_type": "markdown",
      "source": [
        "Menmbuat visualisasi graph baru"
      ],
      "metadata": {
        "id": "f69tF40RZzX2"
      }
    },
    {
      "cell_type": "code",
      "source": [
        "pos = nx.spring_layout(h_graph)"
      ],
      "metadata": {
        "id": "SOyyQXk-SXZc"
      },
      "execution_count": null,
      "outputs": []
    },
    {
      "cell_type": "code",
      "source": [
        "cmap = cm.get_cmap('viridis', max(partisi.values()) + 1)\n",
        "nx.draw_networkx_nodes(h_graph, pos, partisi.keys(), node_size=40,\n",
        "                        cmap=cmap, node_color=list(partisi.values()))\n",
        "nx.draw_networkx_edges(h_graph, pos, alpha=0.5)\n",
        "plt.show()"
      ],
      "metadata": {
        "colab": {
          "base_uri": "https://localhost:8080/",
          "height": 403
        },
        "id": "jkSR2osQTSDm",
        "outputId": "989592c7-25fd-42c4-ccb1-a760a7c2421e"
      },
      "execution_count": null,
      "outputs": [
        {
          "output_type": "display_data",
          "data": {
            "text/plain": [
              "<Figure size 1080x576 with 1 Axes>"
            ],
            "image/png": "[encoded data removed]"
          },
          "metadata": {}
        }
      ]
    },
    {
      "cell_type": "markdown",
      "source": [
        "Banyak Komunitas"
      ],
      "metadata": {
        "id": "d1-O8QE5Z24K"
      }
    },
    {
      "cell_type": "code",
      "source": [
        "max_value = max(partisi.values())\n",
        "print(max_value)"
      ],
      "metadata": {
        "colab": {
          "base_uri": "https://localhost:8080/"
        },
        "id": "Q2RWkdSjVVYd",
        "outputId": "adbcb8c7-18d9-4eca-c22f-924f3330cf3d"
      },
      "execution_count": null,
      "outputs": [
        {
          "output_type": "stream",
          "name": "stdout",
          "text": [
            "130\n"
          ]
        }
      ]
    },
    {
      "cell_type": "markdown",
      "source": [
        "Tahapan partisi pada Metode Louvain"
      ],
      "metadata": {
        "id": "7-T1u2kQZk4m"
      }
    },
    {
      "cell_type": "code",
      "source": [
        "# dendo = community_louvain.generate_dendrogram(h_graph)\n",
        "# for level in range(len(dendo) - 1) :\n",
        "#   print(\"partition at level\", level, \"is\", community_louvain.partition_at_level(dendo, level))"
      ],
      "metadata": {
        "id": "-zmkmGa_YRdz"
      },
      "execution_count": null,
      "outputs": []
    },
    {
      "cell_type": "markdown",
      "source": [
        "## Mengubah Komunitas menjadi Dataframe"
      ],
      "metadata": {
        "id": "wjg-Q6_3Z5pM"
      }
    },
    {
      "cell_type": "code",
      "source": [
        "komunitas = {}\n",
        "for i, v in partisi.items():\n",
        "    komunitas[v] = [i] if v not in komunitas.keys() else komunitas[v] + [i]\n",
        "# print(komunitas)"
      ],
      "metadata": {
        "id": "cQ99Ug0PW3km"
      },
      "execution_count": null,
      "outputs": []
    },
    {
      "cell_type": "code",
      "source": [
        "komunitas_df = pd.DataFrame(dict([ (k,pd.Series(v)) for k,v in komunitas.items() ]))\n",
        "komunitas_df"
      ],
      "metadata": {
        "colab": {
          "base_uri": "https://localhost:8080/",
          "height": 488
        },
        "id": "htd8qyoTXVEs",
        "outputId": "a23d8615-8603-40c1-f710-0376fde9fb5b"
      },
      "execution_count": null,
      "outputs": [
        {
          "output_type": "execute_result",
          "data": {
            "text/plain": [
              "                   0                1                23            3   \\\n",
              "0        KOKUHAKU_210     West99974912  kuronekomiminii     meanme_RT   \n",
              "1     sHjSu1LfvuPseH0          824_aoi  HeavenBR_altema  Raccoon_Yaoi   \n",
              "2         sanagi_hvbn   yumekibogakuen          HBR_Ren   RetweetYaoi   \n",
              "3        isshi_nekoha           190d_9         namaake8     bugs_momo   \n",
              "4            092596Tk  gqIEx9JtlzJc1Yk       you_asumit  IAMNALMILUNA   \n",
              "...               ...              ...              ...           ...   \n",
              "1337              NaN              NaN              NaN           NaN   \n",
              "1338              NaN              NaN              NaN           NaN   \n",
              "1339              NaN              NaN              NaN           NaN   \n",
              "1340              NaN              NaN              NaN           NaN   \n",
              "1341              NaN              NaN              NaN           NaN   \n",
              "\n",
              "                   4                5                12               7   \\\n",
              "0          SS57580994  arinu___ra__kas         shisun13   heavenburnsred   \n",
              "1        aqua__rise__    kolokolon0314  Celeron_300AMHz   samurai_197143   \n",
              "2     ERzs0O5pmWMq7W5        komeigame        Yuugen_99           l_bnwm   \n",
              "3          haneko0417          L_Alcor  ujimatsuchiya17       Sumio_1010   \n",
              "4            Log_tr25          novisg1     demodori0082  KBzSugRWzG2Jnbp   \n",
              "...               ...              ...              ...              ...   \n",
              "1337              NaN              NaN              NaN    YoshizoIshida   \n",
              "1338              NaN              NaN              NaN         keizo_xx   \n",
              "1339              NaN              NaN              NaN       miso777san   \n",
              "1340              NaN              NaN              NaN         yuu_0047   \n",
              "1341              NaN              NaN              NaN  Za7f3qn9MGLQYWX   \n",
              "\n",
              "                75               15  ...         10        41  \\\n",
              "0      Sakiden2992      keitai_hiro  ...  R_X_rated  sumaragd   \n",
              "1          winwin7     bts_95zmanne  ...   asuka_sp    rionos   \n",
              "2        PIK0_Game  hSgyEj7FDtwrsyk  ...        NaN       NaN   \n",
              "3     HBR_appmedia    saitoo_heaven  ...        NaN       NaN   \n",
              "4       arasap0157   darkfairy7days  ...        NaN       NaN   \n",
              "...            ...              ...  ...        ...       ...   \n",
              "1337           NaN              NaN  ...        NaN       NaN   \n",
              "1338           NaN              NaN  ...        NaN       NaN   \n",
              "1339           NaN              NaN  ...        NaN       NaN   \n",
              "1340           NaN              NaN  ...        NaN       NaN   \n",
              "1341           NaN              NaN  ...        NaN       NaN   \n",
              "\n",
              "                   13               14               46               19  \\\n",
              "0       syungiku_moti     Hira87672280        NightMono  80rWg4Ly5mkkZtt   \n",
              "1     JDTJ8ma7tYzdCqC  lAKhgJbER8Hjtd2  sakadachi_kun22    ron_voice_917   \n",
              "2                 NaN              NaN              NaN              NaN   \n",
              "3                 NaN              NaN              NaN              NaN   \n",
              "4                 NaN              NaN              NaN              NaN   \n",
              "...               ...              ...              ...              ...   \n",
              "1337              NaN              NaN              NaN              NaN   \n",
              "1338              NaN              NaN              NaN              NaN   \n",
              "1339              NaN              NaN              NaN              NaN   \n",
              "1340              NaN              NaN              NaN              NaN   \n",
              "1341              NaN              NaN              NaN              NaN   \n",
              "\n",
              "                   21             22             25               26  \n",
              "0     1GmAhyKxi4jKtIl  wakiming_umpd  yahuhinu_star  illvamechi_1228  \n",
              "1            ka61_neu        DgameKi     ikke_irene     key_official  \n",
              "2             RizaYMT            NaN            NaN              NaN  \n",
              "3            krkmAkre            NaN            NaN              NaN  \n",
              "4              zrm310            NaN            NaN              NaN  \n",
              "...               ...            ...            ...              ...  \n",
              "1337              NaN            NaN            NaN              NaN  \n",
              "1338              NaN            NaN            NaN              NaN  \n",
              "1339              NaN            NaN            NaN              NaN  \n",
              "1340              NaN            NaN            NaN              NaN  \n",
              "1341              NaN            NaN            NaN              NaN  \n",
              "\n",
              "[1342 rows x 130 columns]"
            ],
            "text/html": [
              "\n",
              "  <div id=\"df-92885a68-e902-42af-9ea4-73c941bfa7ac\">\n",
              "    <div class=\"colab-df-container\">\n",
              "      <div>\n",
              "<style scoped>\n",
              "    .dataframe tbody tr th:only-of-type {\n",
              "        vertical-align: middle;\n",
              "    }\n",
              "\n",
              "    .dataframe tbody tr th {\n",
              "        vertical-align: top;\n",
              "    }\n",
              "\n",
              "    .dataframe thead th {\n",
              "        text-align: right;\n",
              "    }\n",
              "</style>\n",
              "<table border=\"1\" class=\"dataframe\">\n",
              "  <thead>\n",
              "    <tr style=\"text-align: right;\">\n",
              "      <th></th>\n",
              "      <th>0</th>\n",
              "      <th>1</th>\n",
              "      <th>23</th>\n",
              "      <th>3</th>\n",
              "      <th>4</th>\n",
              "      <th>5</th>\n",
              "      <th>12</th>\n",
              "      <th>7</th>\n",
              "      <th>75</th>\n",
              "      <th>15</th>\n",
              "      <th>...</th>\n",
              "      <th>10</th>\n",
              "      <th>41</th>\n",
              "      <th>13</th>\n",
              "      <th>14</th>\n",
              "      <th>46</th>\n",
              "      <th>19</th>\n",
              "      <th>21</th>\n",
              "      <th>22</th>\n",
              "      <th>25</th>\n",
              "      <th>26</th>\n",
              "    </tr>\n",
              "  </thead>\n",
              "  <tbody>\n",
              "    <tr>\n",
              "      <th>0</th>\n",
              "      <td>KOKUHAKU_210</td>\n",
              "      <td>West99974912</td>\n",
              "      <td>kuronekomiminii</td>\n",
              "      <td>meanme_RT</td>\n",
              "      <td>SS57580994</td>\n",
              "      <td>arinu___ra__kas</td>\n",
              "      <td>shisun13</td>\n",
              "      <td>heavenburnsred</td>\n",
              "      <td>Sakiden2992</td>\n",
              "      <td>keitai_hiro</td>\n",
              "      <td>...</td>\n",
              "      <td>R_X_rated</td>\n",
              "      <td>sumaragd</td>\n",
              "      <td>syungiku_moti</td>\n",
              "      <td>Hira87672280</td>\n",
              "      <td>NightMono</td>\n",
              "      <td>80rWg4Ly5mkkZtt</td>\n",
              "      <td>1GmAhyKxi4jKtIl</td>\n",
              "      <td>wakiming_umpd</td>\n",
              "      <td>yahuhinu_star</td>\n",
              "      <td>illvamechi_1228</td>\n",
              "    </tr>\n",
              "    <tr>\n",
              "      <th>1</th>\n",
              "      <td>sHjSu1LfvuPseH0</td>\n",
              "      <td>824_aoi</td>\n",
              "      <td>HeavenBR_altema</td>\n",
              "      <td>Raccoon_Yaoi</td>\n",
              "      <td>aqua__rise__</td>\n",
              "      <td>kolokolon0314</td>\n",
              "      <td>Celeron_300AMHz</td>\n",
              "      <td>samurai_197143</td>\n",
              "      <td>winwin7</td>\n",
              "      <td>bts_95zmanne</td>\n",
              "      <td>...</td>\n",
              "      <td>asuka_sp</td>\n",
              "      <td>rionos</td>\n",
              "      <td>JDTJ8ma7tYzdCqC</td>\n",
              "      <td>lAKhgJbER8Hjtd2</td>\n",
              "      <td>sakadachi_kun22</td>\n",
              "      <td>ron_voice_917</td>\n",
              "      <td>ka61_neu</td>\n",
              "      <td>DgameKi</td>\n",
              "      <td>ikke_irene</td>\n",
              "      <td>key_official</td>\n",
              "    </tr>\n",
              "    <tr>\n",
              "      <th>2</th>\n",
              "      <td>sanagi_hvbn</td>\n",
              "      <td>yumekibogakuen</td>\n",
              "      <td>HBR_Ren</td>\n",
              "      <td>RetweetYaoi</td>\n",
              "      <td>ERzs0O5pmWMq7W5</td>\n",
              "      <td>komeigame</td>\n",
              "      <td>Yuugen_99</td>\n",
              "      <td>l_bnwm</td>\n",
              "      <td>PIK0_Game</td>\n",
              "      <td>hSgyEj7FDtwrsyk</td>\n",
              "      <td>...</td>\n",
              "      <td>NaN</td>\n",
              "      <td>NaN</td>\n",
              "      <td>NaN</td>\n",
              "      <td>NaN</td>\n",
              "      <td>NaN</td>\n",
              "      <td>NaN</td>\n",
              "      <td>RizaYMT</td>\n",
              "      <td>NaN</td>\n",
              "      <td>NaN</td>\n",
              "      <td>NaN</td>\n",
              "    </tr>\n",
              "    <tr>\n",
              "      <th>3</th>\n",
              "      <td>isshi_nekoha</td>\n",
              "      <td>190d_9</td>\n",
              "      <td>namaake8</td>\n",
              "      <td>bugs_momo</td>\n",
              "      <td>haneko0417</td>\n",
              "      <td>L_Alcor</td>\n",
              "      <td>ujimatsuchiya17</td>\n",
              "      <td>Sumio_1010</td>\n",
              "      <td>HBR_appmedia</td>\n",
              "      <td>saitoo_heaven</td>\n",
              "      <td>...</td>\n",
              "      <td>NaN</td>\n",
              "      <td>NaN</td>\n",
              "      <td>NaN</td>\n",
              "      <td>NaN</td>\n",
              "      <td>NaN</td>\n",
              "      <td>NaN</td>\n",
              "      <td>krkmAkre</td>\n",
              "      <td>NaN</td>\n",
              "      <td>NaN</td>\n",
              "      <td>NaN</td>\n",
              "    </tr>\n",
              "    <tr>\n",
              "      <th>4</th>\n",
              "      <td>092596Tk</td>\n",
              "      <td>gqIEx9JtlzJc1Yk</td>\n",
              "      <td>you_asumit</td>\n",
              "      <td>IAMNALMILUNA</td>\n",
              "      <td>Log_tr25</td>\n",
              "      <td>novisg1</td>\n",
              "      <td>demodori0082</td>\n",
              "      <td>KBzSugRWzG2Jnbp</td>\n",
              "      <td>arasap0157</td>\n",
              "      <td>darkfairy7days</td>\n",
              "      <td>...</td>\n",
              "      <td>NaN</td>\n",
              "      <td>NaN</td>\n",
              "      <td>NaN</td>\n",
              "      <td>NaN</td>\n",
              "      <td>NaN</td>\n",
              "      <td>NaN</td>\n",
              "      <td>zrm310</td>\n",
              "      <td>NaN</td>\n",
              "      <td>NaN</td>\n",
              "      <td>NaN</td>\n",
              "    </tr>\n",
              "    <tr>\n",
              "      <th>...</th>\n",
              "      <td>...</td>\n",
              "      <td>...</td>\n",
              "      <td>...</td>\n",
              "      <td>...</td>\n",
              "      <td>...</td>\n",
              "      <td>...</td>\n",
              "      <td>...</td>\n",
              "      <td>...</td>\n",
              "      <td>...</td>\n",
              "      <td>...</td>\n",
              "      <td>...</td>\n",
              "      <td>...</td>\n",
              "      <td>...</td>\n",
              "      <td>...</td>\n",
              "      <td>...</td>\n",
              "      <td>...</td>\n",
              "      <td>...</td>\n",
              "      <td>...</td>\n",
              "      <td>...</td>\n",
              "      <td>...</td>\n",
              "      <td>...</td>\n",
              "    </tr>\n",
              "    <tr>\n",
              "      <th>1337</th>\n",
              "      <td>NaN</td>\n",
              "      <td>NaN</td>\n",
              "      <td>NaN</td>\n",
              "      <td>NaN</td>\n",
              "      <td>NaN</td>\n",
              "      <td>NaN</td>\n",
              "      <td>NaN</td>\n",
              "      <td>YoshizoIshida</td>\n",
              "      <td>NaN</td>\n",
              "      <td>NaN</td>\n",
              "      <td>...</td>\n",
              "      <td>NaN</td>\n",
              "      <td>NaN</td>\n",
              "      <td>NaN</td>\n",
              "      <td>NaN</td>\n",
              "      <td>NaN</td>\n",
              "      <td>NaN</td>\n",
              "      <td>NaN</td>\n",
              "      <td>NaN</td>\n",
              "      <td>NaN</td>\n",
              "      <td>NaN</td>\n",
              "    </tr>\n",
              "    <tr>\n",
              "      <th>1338</th>\n",
              "      <td>NaN</td>\n",
              "      <td>NaN</td>\n",
              "      <td>NaN</td>\n",
              "      <td>NaN</td>\n",
              "      <td>NaN</td>\n",
              "      <td>NaN</td>\n",
              "      <td>NaN</td>\n",
              "      <td>keizo_xx</td>\n",
              "      <td>NaN</td>\n",
              "      <td>NaN</td>\n",
              "      <td>...</td>\n",
              "      <td>NaN</td>\n",
              "      <td>NaN</td>\n",
              "      <td>NaN</td>\n",
              "      <td>NaN</td>\n",
              "      <td>NaN</td>\n",
              "      <td>NaN</td>\n",
              "      <td>NaN</td>\n",
              "      <td>NaN</td>\n",
              "      <td>NaN</td>\n",
              "      <td>NaN</td>\n",
              "    </tr>\n",
              "    <tr>\n",
              "      <th>1339</th>\n",
              "      <td>NaN</td>\n",
              "      <td>NaN</td>\n",
              "      <td>NaN</td>\n",
              "      <td>NaN</td>\n",
              "      <td>NaN</td>\n",
              "      <td>NaN</td>\n",
              "      <td>NaN</td>\n",
              "      <td>miso777san</td>\n",
              "      <td>NaN</td>\n",
              "      <td>NaN</td>\n",
              "      <td>...</td>\n",
              "      <td>NaN</td>\n",
              "      <td>NaN</td>\n",
              "      <td>NaN</td>\n",
              "      <td>NaN</td>\n",
              "      <td>NaN</td>\n",
              "      <td>NaN</td>\n",
              "      <td>NaN</td>\n",
              "      <td>NaN</td>\n",
              "      <td>NaN</td>\n",
              "      <td>NaN</td>\n",
              "    </tr>\n",
              "    <tr>\n",
              "      <th>1340</th>\n",
              "      <td>NaN</td>\n",
              "      <td>NaN</td>\n",
              "      <td>NaN</td>\n",
              "      <td>NaN</td>\n",
              "      <td>NaN</td>\n",
              "      <td>NaN</td>\n",
              "      <td>NaN</td>\n",
              "      <td>yuu_0047</td>\n",
              "      <td>NaN</td>\n",
              "      <td>NaN</td>\n",
              "      <td>...</td>\n",
              "      <td>NaN</td>\n",
              "      <td>NaN</td>\n",
              "      <td>NaN</td>\n",
              "      <td>NaN</td>\n",
              "      <td>NaN</td>\n",
              "      <td>NaN</td>\n",
              "      <td>NaN</td>\n",
              "      <td>NaN</td>\n",
              "      <td>NaN</td>\n",
              "      <td>NaN</td>\n",
              "    </tr>\n",
              "    <tr>\n",
              "      <th>1341</th>\n",
              "      <td>NaN</td>\n",
              "      <td>NaN</td>\n",
              "      <td>NaN</td>\n",
              "      <td>NaN</td>\n",
              "      <td>NaN</td>\n",
              "      <td>NaN</td>\n",
              "      <td>NaN</td>\n",
              "      <td>Za7f3qn9MGLQYWX</td>\n",
              "      <td>NaN</td>\n",
              "      <td>NaN</td>\n",
              "      <td>...</td>\n",
              "      <td>NaN</td>\n",
              "      <td>NaN</td>\n",
              "      <td>NaN</td>\n",
              "      <td>NaN</td>\n",
              "      <td>NaN</td>\n",
              "      <td>NaN</td>\n",
              "      <td>NaN</td>\n",
              "      <td>NaN</td>\n",
              "      <td>NaN</td>\n",
              "      <td>NaN</td>\n",
              "    </tr>\n",
              "  </tbody>\n",
              "</table>\n",
              "<p>1342 rows × 130 columns</p>\n",
              "</div>\n",
              "      <button class=\"colab-df-convert\" onclick=\"convertToInteractive('df-92885a68-e902-42af-9ea4-73c941bfa7ac')\"\n",
              "              title=\"Convert this dataframe to an interactive table.\"\n",
              "              style=\"display:none;\">\n",
              "        \n",
              "  <svg xmlns=\"http://www.w3.org/2000/svg\" height=\"24px\"viewBox=\"0 0 24 24\"\n",
              "       width=\"24px\">\n",
              "    <path d=\"M0 0h24v24H0V0z\" fill=\"none\"/>\n",
              "    <path d=\"M18.56 5.44l.94 2.06.94-2.06 2.06-.94-2.06-.94-.94-2.06-.94 2.06-2.06.94zm-11 1L8.5 8.5l.94-2.06 2.06-.94-2.06-.94L8.5 2.5l-.94 2.06-2.06.94zm10 10l.94 2.06.94-2.06 2.06-.94-2.06-.94-.94-2.06-.94 2.06-2.06.94z\"/><path d=\"M17.41 7.96l-1.37-1.37c-.4-.4-.92-.59-1.43-.59-.52 0-1.04.2-1.43.59L10.3 9.45l-7.72 7.72c-.78.78-.78 2.05 0 2.83L4 21.41c.39.39.9.59 1.41.59.51 0 1.02-.2 1.41-.59l7.78-7.78 2.81-2.81c.8-.78.8-2.07 0-2.86zM5.41 20L4 18.59l7.72-7.72 1.47 1.35L5.41 20z\"/>\n",
              "  </svg>\n",
              "      </button>\n",
              "      \n",
              "  <style>\n",
              "    .colab-df-container {\n",
              "      display:flex;\n",
              "      flex-wrap:wrap;\n",
              "      gap: 12px;\n",
              "    }\n",
              "\n",
              "    .colab-df-convert {\n",
              "      background-color: #E8F0FE;\n",
              "      border: none;\n",
              "      border-radius: 50%;\n",
              "      cursor: pointer;\n",
              "      display: none;\n",
              "      fill: #1967D2;\n",
              "      height: 32px;\n",
              "      padding: 0 0 0 0;\n",
              "      width: 32px;\n",
              "    }\n",
              "\n",
              "    .colab-df-convert:hover {\n",
              "      background-color: #E2EBFA;\n",
              "      box-shadow: 0px 1px 2px rgba(60, 64, 67, 0.3), 0px 1px 3px 1px rgba(60, 64, 67, 0.15);\n",
              "      fill: #174EA6;\n",
              "    }\n",
              "\n",
              "    [theme=dark] .colab-df-convert {\n",
              "      background-color: #3B4455;\n",
              "      fill: #D2E3FC;\n",
              "    }\n",
              "\n",
              "    [theme=dark] .colab-df-convert:hover {\n",
              "      background-color: #434B5C;\n",
              "      box-shadow: 0px 1px 3px 1px rgba(0, 0, 0, 0.15);\n",
              "      filter: drop-shadow(0px 1px 2px rgba(0, 0, 0, 0.3));\n",
              "      fill: #FFFFFF;\n",
              "    }\n",
              "  </style>\n",
              "\n",
              "      <script>\n",
              "        const buttonEl =\n",
              "          document.querySelector('#df-92885a68-e902-42af-9ea4-73c941bfa7ac button.colab-df-convert');\n",
              "        buttonEl.style.display =\n",
              "          google.colab.kernel.accessAllowed ? 'block' : 'none';\n",
              "\n",
              "        async function convertToInteractive(key) {\n",
              "          const element = document.querySelector('#df-92885a68-e902-42af-9ea4-73c941bfa7ac');\n",
              "          const dataTable =\n",
              "            await google.colab.kernel.invokeFunction('convertToInteractive',\n",
              "                                                     [key], {});\n",
              "          if (!dataTable) return;\n",
              "\n",
              "          const docLinkHtml = 'Like what you see? Visit the ' +\n",
              "            '<a target=\"_blank\" href=https://colab.research.google.com/notebooks/data_table.ipynb>data table notebook</a>'\n",
              "            + ' to learn more about interactive tables.';\n",
              "          element.innerHTML = '';\n",
              "          dataTable['output_type'] = 'display_data';\n",
              "          await google.colab.output.renderOutput(dataTable, element);\n",
              "          const docLink = document.createElement('div');\n",
              "          docLink.innerHTML = docLinkHtml;\n",
              "          element.appendChild(docLink);\n",
              "        }\n",
              "      </script>\n",
              "    </div>\n",
              "  </div>\n",
              "  "
            ]
          },
          "metadata": {},
          "execution_count": 63
        }
      ]
    },
    {
      "cell_type": "markdown",
      "source": [
        "## Analisis Komunitas"
      ],
      "metadata": {
        "id": "7-DU29UoYOPc"
      }
    },
    {
      "cell_type": "code",
      "source": [
        "banyak_anggota = komunitas_df.shape[0] - komunitas_df.isna().sum()\n",
        "banyak_anggota"
      ],
      "metadata": {
        "colab": {
          "base_uri": "https://localhost:8080/"
        },
        "id": "oJALPuGgaEyf",
        "outputId": "b221b90d-44b3-49f9-e1ca-21d75bbcbe6b"
      },
      "execution_count": null,
      "outputs": [
        {
          "output_type": "execute_result",
          "data": {
            "text/plain": [
              "0     533\n",
              "1      49\n",
              "23     62\n",
              "3      14\n",
              "4     347\n",
              "     ... \n",
              "19      2\n",
              "21      5\n",
              "22      2\n",
              "25      2\n",
              "26      2\n",
              "Length: 130, dtype: int64"
            ]
          },
          "metadata": {},
          "execution_count": 83
        }
      ]
    },
    {
      "cell_type": "code",
      "source": [
        "banyak_anggota.sort_values(ascending=False).plot(kind='bar')\n",
        "plt.xlabel(\"Kode Komunitas\")\n",
        "plt.ylabel('Banyak Anggota')\n",
        "plt.show()"
      ],
      "metadata": {
        "colab": {
          "base_uri": "https://localhost:8080/",
          "height": 510
        },
        "id": "VS3DRAPibaT5",
        "outputId": "0f7b605c-8b28-4f66-98c3-7d674467499c"
      },
      "execution_count": null,
      "outputs": [
        {
          "output_type": "display_data",
          "data": {
            "text/plain": [
              "<Figure size 1080x576 with 1 Axes>"
            ],
            "image/png": "[encoded data removed]"
          },
          "metadata": {}
        }
      ]
    },
    {
      "cell_type": "markdown",
      "source": [
        "Top 10 Komunitas"
      ],
      "metadata": {
        "id": "0EZcJcOucXri"
      }
    },
    {
      "cell_type": "code",
      "source": [
        "banyak_anggota.sort_values(ascending=False).head(10)"
      ],
      "metadata": {
        "colab": {
          "base_uri": "https://localhost:8080/"
        },
        "id": "UA_saylecS-f",
        "outputId": "2aa92251-e9c5-4bd3-b480-35b45e8fb87c"
      },
      "execution_count": null,
      "outputs": [
        {
          "output_type": "execute_result",
          "data": {
            "text/plain": [
              "7     1342\n",
              "0      533\n",
              "4      347\n",
              "12     299\n",
              "42     272\n",
              "16     185\n",
              "75     185\n",
              "38     153\n",
              "5      140\n",
              "11     115\n",
              "dtype: int64"
            ]
          },
          "metadata": {},
          "execution_count": 87
        }
      ]
    },
    {
      "cell_type": "markdown",
      "source": [
        "Nilai Modularity"
      ],
      "metadata": {
        "id": "UsylJimcZpGF"
      }
    },
    {
      "cell_type": "code",
      "source": [
        "nilai_modularity = community_louvain.modularity(partisi, h_graph)\n",
        "nilai_modularity"
      ],
      "metadata": {
        "colab": {
          "base_uri": "https://localhost:8080/"
        },
        "id": "y0pDdUuwYzR4",
        "outputId": "aaae3549-3ece-4bd1-d4b4-fa1b84884b7c"
      },
      "execution_count": null,
      "outputs": [
        {
          "output_type": "execute_result",
          "data": {
            "text/plain": [
              "0.5989174612277758"
            ]
          },
          "metadata": {},
          "execution_count": 67
        }
      ]
    },
    {
      "cell_type": "markdown",
      "source": [
        "Export ke CSV"
      ],
      "metadata": {
        "id": "oSM9IvhDdUU2"
      }
    },
    {
      "cell_type": "code",
      "source": [
        "komunitas_df.to_csv(r'hasil_komunitas.csv', index=False, header=True)"
      ],
      "metadata": {
        "id": "_1djoLOxc8c0"
      },
      "execution_count": null,
      "outputs": []
    },
    {
      "cell_type": "markdown",
      "source": [
        "## Statistik"
      ],
      "metadata": {
        "id": "Mo-LOkOQwnm-"
      }
    },
    {
      "cell_type": "code",
      "source": [
        "print(\"Banyaknya Nodes = \", h_graph.number_of_nodes())\n",
        "print(\"Banyaknya Edges = \", h_graph.number_of_edges())"
      ],
      "metadata": {
        "colab": {
          "base_uri": "https://localhost:8080/"
        },
        "id": "A-2_qxXGwqHE",
        "outputId": "5d2b57fc-9519-4b37-b367-f23545319429"
      },
      "execution_count": null,
      "outputs": [
        {
          "output_type": "stream",
          "name": "stdout",
          "text": [
            "Banyaknya Nodes =  4367\n",
            "Banyaknya Edges =  7112\n"
          ]
        }
      ]
    }
  ]
}